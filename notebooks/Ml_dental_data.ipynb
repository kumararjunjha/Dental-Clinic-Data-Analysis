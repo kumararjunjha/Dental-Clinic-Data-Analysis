{
  "nbformat": 4,
  "nbformat_minor": 0,
  "metadata": {
    "colab": {
      "provenance": []
    },
    "kernelspec": {
      "name": "python3",
      "display_name": "Python 3"
    },
    "language_info": {
      "name": "python"
    }
  },
  "cells": [
    {
      "cell_type": "code",
      "execution_count": null,
      "metadata": {
        "id": "4KCX0ao5rJCI"
      },
      "outputs": [],
      "source": []
    },
    {
      "cell_type": "markdown",
      "source": [
        "# New section"
      ],
      "metadata": {
        "id": "dLfw_KnerYaj"
      }
    },
    {
      "cell_type": "code",
      "source": [
        "import pandas as pd\n",
        "import numpy as np\n",
        "\n",
        "# --- 1. Load the data ---\n",
        "# We will read the two sheets from our Excel file.\n",
        "patients = pd.read_excel('/content/ML_Dental_Clinic_Patient_Records_30-35LakhsRevenue.xlsx', sheet_name='Patient Info')\n",
        "billing = pd.read_excel('/content/ML_Dental_Clinic_Patient_Records_30-35LakhsRevenue.xlsx', sheet_name='Billing')\n",
        "\n",
        "# --- 2. Combine the data ---\n",
        "# We merge the two sheets into one main table for analysis.\n",
        "# We use 'Patient ID' and 'Patient Name' to join them.\n",
        "clinic_data = pd.merge(patients, billing, on=['Patient ID', 'Patient Name'], how='inner')\n",
        "\n",
        "# --- 3. Clean the data ---\n",
        "# A real dataset always has small issues. Let's fix the date column.\n",
        "clinic_data['Visit Date'] = pd.to_datetime(clinic_data['Visit Date'])\n",
        "\n",
        "# --- 4. Answer business questions ---\n",
        "\n",
        "# Question: What is our total revenue and profit?\n",
        "total_revenue = clinic_data['Total Paid'].sum()\n",
        "total_profit = clinic_data['Profit'].sum()\n",
        "\n",
        "print(f\"Total Revenue: ₹{total_revenue:,.2f}\")\n",
        "print(f\"Total Profit: ₹{total_profit:,.2f}\")\n",
        "\n",
        "# Question: Which are our most popular treatments?\n",
        "popular_treatments = clinic_data['Treatment'].value_counts()\n",
        "print(\"\\nMost Popular Treatments:\")\n",
        "print(popular_treatments)\n",
        "\n",
        "# Question: Which treatments are the most profitable?\n",
        "profitable_treatments = clinic_data.groupby('Treatment')['Profit'].sum().sort_values(ascending=False)\n",
        "print(\"\\nMost Profitable Treatments:\")\n",
        "print(profitable_treatments)\n",
        "\n",
        "# Question: Which doctor is generating the most revenue?\n",
        "doctor_revenue = clinic_data.groupby('Consulted By')['Total Paid'].sum().sort_values(ascending=False)\n",
        "print(\"\\nRevenue by Doctor:\")\n",
        "print(doctor_revenue)\n",
        "\n",
        "# Question: How are patients finding our clinic?\n",
        "patient_acquisition = clinic_data['Patient Type'].value_counts()\n",
        "print(\"\\nPatient Acquisition Sources:\")\n",
        "print(patient_acquisition)\n",
        "\n",
        "# Question: What are the monthly trends?\n",
        "clinic_data['Visit Month'] = clinic_data['Visit Date'].dt.to_period('M')\n",
        "monthly_trends = clinic_data.groupby('Visit Month').agg(\n",
        "    total_revenue=('Total Paid', 'sum'),\n",
        "    patient_count=('Patient ID', 'nunique')\n",
        ")\n",
        "print(\"\\nMonthly Revenue and Patient Count Trends:\")\n",
        "print(monthly_trends)\n",
        "\n",
        "# --- 5. Save the final data ---\n",
        "# We save the cleaned and combined data for use in Power BI or other tools.\n",
        "clinic_data.to_csv('cleaned_data.csv', index=False)\n",
        "print(\"\\nFinal cleaned data saved to cleaned_data.csv\")"
      ],
      "metadata": {
        "colab": {
          "base_uri": "https://localhost:8080/"
        },
        "id": "OZMP34P2rmoF",
        "outputId": "4e03e007-b062-40aa-9663-24bfda78c368"
      },
      "execution_count": 6,
      "outputs": [
        {
          "output_type": "stream",
          "name": "stdout",
          "text": [
            "Total Revenue: ₹3,257,061.40\n",
            "Total Profit: ₹2,542,301.40\n",
            "\n",
            "Most Popular Treatments:\n",
            "Treatment\n",
            "OPD + X-Ray    575\n",
            "OPD            570\n",
            "Cleaning        98\n",
            "Braces          71\n",
            "Bleaching       69\n",
            "Implants        62\n",
            "RCT             59\n",
            "Extraction      45\n",
            "Crown           44\n",
            "Filling         37\n",
            "Name: count, dtype: int64\n",
            "\n",
            "Most Profitable Treatments:\n",
            "Treatment\n",
            "Implants       1035564.0\n",
            "Braces          799474.0\n",
            "RCT             183742.0\n",
            "OPD + X-Ray     161300.0\n",
            "Bleaching        90659.4\n",
            "OPD              80700.0\n",
            "Crown            79697.0\n",
            "Cleaning         50056.0\n",
            "Filling          30958.6\n",
            "Extraction       30150.4\n",
            "Name: Profit, dtype: float64\n",
            "\n",
            "Revenue by Doctor:\n",
            "Consulted By\n",
            "Dr. Kajal    2984617.4\n",
            "Dr. Karan     272444.0\n",
            "Name: Total Paid, dtype: float64\n",
            "\n",
            "Patient Acquisition Sources:\n",
            "Patient Type\n",
            "First Visit    1235\n",
            "Referral        239\n",
            "Walk-in         156\n",
            "Name: count, dtype: int64\n",
            "\n",
            "Monthly Revenue and Patient Count Trends:\n",
            "             total_revenue  patient_count\n",
            "Visit Month                              \n",
            "2023-01           136975.2             49\n",
            "2023-02           136843.4             38\n",
            "2023-03            73510.4             34\n",
            "2023-04           108569.6             42\n",
            "2023-05            56856.4             40\n",
            "2023-06            26459.2             36\n",
            "2023-07            84297.0             33\n",
            "2023-08            46295.4             35\n",
            "2023-09            38989.0             32\n",
            "2023-10            50215.0             41\n",
            "2023-11            38081.2             35\n",
            "2023-12           173873.0             45\n",
            "2024-01           129080.4             50\n",
            "2024-02            61593.0             47\n",
            "2024-03           137501.0             36\n",
            "2024-04            52103.6             34\n",
            "2024-05            32949.6             33\n",
            "2024-06            45390.0             27\n",
            "2024-07            76580.0             30\n",
            "2024-08            85032.0             38\n",
            "2024-09            34883.4             27\n",
            "2024-10           148381.0             34\n",
            "2024-11            17501.0             32\n",
            "2024-12           379208.0            209\n",
            "2025-01           365170.4            207\n",
            "2025-02           285628.4            185\n",
            "2025-03           435094.8            181\n",
            "\n",
            "Final cleaned data saved to cleaned_data.csv\n"
          ]
        }
      ]
    },
    {
      "cell_type": "code",
      "source": [],
      "metadata": {
        "id": "eHnHpwZnrwe7"
      },
      "execution_count": null,
      "outputs": []
    }
  ]
}